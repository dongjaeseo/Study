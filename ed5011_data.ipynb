{
  "nbformat": 4,
  "nbformat_minor": 0,
  "metadata": {
    "colab": {
      "private_outputs": true,
      "provenance": [],
      "mount_file_id": "1__oBPRAgdXpPlOm9YqSAkx52Ilvy631L",
      "authorship_tag": "ABX9TyOOcV9xx8gdZejuJ0PqREK7",
      "include_colab_link": true
    },
    "kernelspec": {
      "name": "python3",
      "display_name": "Python 3"
    },
    "language_info": {
      "name": "python"
    },
    "accelerator": "GPU",
    "gpuClass": "standard"
  },
  "cells": [
    {
      "cell_type": "markdown",
      "metadata": {
        "id": "view-in-github",
        "colab_type": "text"
      },
      "source": [
        "<a href=\"https://colab.research.google.com/github/dongjaeseo/study/blob/main/ed5011_data.ipynb\" target=\"_parent\"><img src=\"https://colab.research.google.com/assets/colab-badge.svg\" alt=\"Open In Colab\"/></a>"
      ]
    },
    {
      "cell_type": "code",
      "execution_count": null,
      "metadata": {
        "id": "O3D5alDK-Elg"
      },
      "outputs": [],
      "source": [
        "import numpy as np\n",
        "import pandas as pd\n",
        "import tensorflow as tf\n",
        "import tensorflow.keras.backend as K\n",
        "from tensorflow.keras.models import Sequential, Model\n",
        "from tensorflow.keras.layers import Dense, Flatten, Dropout, LSTM, Input, Normalization\n",
        "from sklearn.model_selection import train_test_split"
      ]
    },
    {
      "cell_type": "code",
      "source": [
        "device_name = tf.test.gpu_device_name()\n",
        "if device_name != '/device:GPU:0':\n",
        "  raise SystemError('GPU device not found')\n",
        "print('Found GPU at: {}'.format(device_name))"
      ],
      "metadata": {
        "id": "GvgTKcKhWiCA"
      },
      "execution_count": null,
      "outputs": []
    },
    {
      "cell_type": "code",
      "source": [
        "df = pd.read_csv('/content/drive/MyDrive/ed5011/B0005/data/001_B0005_charge.csv', header = None)"
      ],
      "metadata": {
        "id": "B1zQxjeG-ddu"
      },
      "execution_count": null,
      "outputs": []
    },
    {
      "cell_type": "code",
      "source": [
        "print(df)"
      ],
      "metadata": {
        "id": "CL6BfGY0-dx2"
      },
      "execution_count": null,
      "outputs": []
    },
    {
      "cell_type": "code",
      "source": [
        "df2 = pd.read_csv('/content/drive/MyDrive/ed5011/B0005/data/002_B0005_discharge.csv', header = None)"
      ],
      "metadata": {
        "id": "NrZFH4OEQWHJ"
      },
      "execution_count": null,
      "outputs": []
    },
    {
      "cell_type": "code",
      "source": [
        "print(df2)\n"
      ],
      "metadata": {
        "id": "grreyFY1QdT3"
      },
      "execution_count": null,
      "outputs": []
    },
    {
      "cell_type": "code",
      "source": [
        "df3 = pd.concat([df, df2])"
      ],
      "metadata": {
        "id": "552Qh_FwQh-P"
      },
      "execution_count": null,
      "outputs": []
    },
    {
      "cell_type": "code",
      "source": [
        "df3"
      ],
      "metadata": {
        "id": "Lb-GhsvbRjKJ"
      },
      "execution_count": null,
      "outputs": []
    },
    {
      "cell_type": "code",
      "source": [
        "from tqdm import tqdm\n",
        "train_x = []\n",
        "test_x = []\n",
        "\n",
        "for i in tqdm(range(1, 335)):\n",
        "    if i % 2 == 1:\n",
        "        df1 = pd.read_csv(f'/content/drive/MyDrive/ed5011/B0005/data/{i:03}_B0005_charge.csv', header = None)\n",
        "    elif i % 2 == 0:\n",
        "        df2 = pd.read_csv(f'/content/drive/MyDrive/ed5011/B0005/data/{i:03}_B0005_discharge.csv', header = None)\n",
        "        df = pd.concat([df1,df2])\n",
        "\n",
        "        train_x.append(df)\n",
        "    \n",
        "for i in tqdm(range(1, 335)):\n",
        "    if i % 2 == 1:\n",
        "        df1 = pd.read_csv(f'/content/drive/MyDrive/ed5011/B0006/data/{i:03}_B0006_charge.csv', header = None)\n",
        "    elif i % 2 == 0:\n",
        "        df2 = pd.read_csv(f'/content/drive/MyDrive/ed5011/B0006/data/{i:03}_B0006_discharge.csv', header = None)\n",
        "        df = pd.concat([df1,df2])\n",
        "\n",
        "        train_x.append(df)\n",
        "\n",
        "for i in tqdm(range(1, 265)):\n",
        "    if i % 2 == 1:\n",
        "        df1 = pd.read_csv(f'/content/drive/MyDrive/ed5011/B0018/data/{i:03}_B0018_charge.csv', header = None)\n",
        "    elif i % 2 == 0:\n",
        "        df2 = pd.read_csv(f'/content/drive/MyDrive/ed5011/B0018/data/{i:03}_B0018_discharge.csv', header = None)\n",
        "        df = pd.concat([df1,df2])\n",
        "\n",
        "        train_x.append(df)\n",
        "\n",
        "for i in tqdm(range(1, 335)):\n",
        "    if i % 2 == 1:\n",
        "        df1 = pd.read_csv(f'/content/drive/MyDrive/ed5011/B0007/data/{i:03}_B0007_charge.csv', header = None)\n",
        "    elif i % 2 == 0:\n",
        "        df2 = pd.read_csv(f'/content/drive/MyDrive/ed5011/B0007/data/{i:03}_B0007_discharge.csv', header = None)\n",
        "        df = pd.concat([df1,df2])\n",
        "\n",
        "        test_x.append(df)"
      ],
      "metadata": {
        "id": "DscU2u3IRnDL"
      },
      "execution_count": null,
      "outputs": []
    },
    {
      "cell_type": "code",
      "source": [
        "train_x = np.array(train_x)\n",
        "test_x = np.array(test_x)\n",
        "\n",
        "train_x.shape"
      ],
      "metadata": {
        "id": "wQpcxK2tPiQH"
      },
      "execution_count": null,
      "outputs": []
    },
    {
      "cell_type": "code",
      "source": [
        "# Finding the data with maximum length = 4254\n",
        "\n",
        "max = 0\n",
        "for data in train_x:\n",
        "    if len(data) > max:\n",
        "        max = len(data)\n",
        "\n",
        "max"
      ],
      "metadata": {
        "id": "zHwiNsUFTtFZ"
      },
      "execution_count": null,
      "outputs": []
    },
    {
      "cell_type": "code",
      "source": [
        "# Pad data\n",
        "\n",
        "x_train = np.zeros([train_x.shape[0], max, 6])\n",
        "x_test = np.zeros([test_x.shape[0], max, 6])\n",
        "\n",
        "for i, dat_x in enumerate(train_x):\n",
        "    if len(dat_x) <= max:\n",
        "        num = len(dat_x)\n",
        "        x_train[i][-num:] = dat_x\n",
        "    else:\n",
        "        x_train[i] = dat_x[-max:]\n",
        "\n",
        "for i, dat_x in enumerate(test_x):\n",
        "    if len(dat_x) <= max:\n",
        "        num = len(dat_x)\n",
        "        x_test[i][-num:] = dat_x\n",
        "    else:\n",
        "        x_test[i] = dat_x[-max:]\n",
        "\n",
        "print(x_train.shape) # (466, 4254, 6)\n",
        "print(x_test.shape) # (167, 4254, 6)"
      ],
      "metadata": {
        "id": "v3Oz0xLOVOXS"
      },
      "execution_count": null,
      "outputs": []
    },
    {
      "cell_type": "code",
      "source": [
        "# y data\n",
        "df_y1 = pd.read_csv(f'/content/drive/MyDrive/ed5011/B0005/label/label.csv', header = None)\n",
        "df_y2 = pd.read_csv(f'/content/drive/MyDrive/ed5011/B0006/label/label_B0006.csv', header = None)\n",
        "df_y3 = pd.read_csv(f'/content/drive/MyDrive/ed5011/B0018/label/label_B0018.csv', header = None)\n",
        "df_y4 = pd.read_csv(f'/content/drive/MyDrive/ed5011/B0007/label/label_B0007.csv', header = None)\n",
        "\n",
        "df_y = pd.concat([df_y1, df_y2, df_y3])\n",
        "y_train = np.array(df_y)\n",
        "y_test = np.array(df_y4)\n",
        "\n",
        "print(y_train.shape) # (466, 1)\n",
        "print(y_test.shape) # (167, 1)"
      ],
      "metadata": {
        "id": "QwS3VB-DYEbm"
      },
      "execution_count": null,
      "outputs": []
    },
    {
      "cell_type": "code",
      "source": [
        "x_train, x_val, y_train, y_val = train_test_split(x_train, y_train, train_size = 0.8, random_state= 0, shuffle = True)"
      ],
      "metadata": {
        "id": "JKJNW1oIhpcc"
      },
      "execution_count": null,
      "outputs": []
    },
    {
      "cell_type": "markdown",
      "source": [],
      "metadata": {
        "id": "yZJZMTffZdnQ"
      }
    },
    {
      "cell_type": "code",
      "source": [
        "model = Sequential()\n",
        "model.add(LSTM(64, input_shape=(x_train.shape[1:])))\n",
        "model.add(Dropout(0.2))\n",
        "model.add(Dense(32, activation = 'relu'))\n",
        "model.add(Dropout(0.2))\n",
        "\n",
        "model.add(Dense(1))"
      ],
      "metadata": {
        "id": "OJJWirhZYeuC"
      },
      "execution_count": null,
      "outputs": []
    },
    {
      "cell_type": "code",
      "source": [
        "model.summary()"
      ],
      "metadata": {
        "id": "Lw9KsiYTZn4W"
      },
      "execution_count": null,
      "outputs": []
    },
    {
      "cell_type": "code",
      "source": [
        "with tf.device('/device:GPU:0'):  \n",
        "    optim = tf.keras.optimizers.Adam(lr = 1e-3, decay = 1e-5)\n",
        "\n",
        "    model.compile(loss = 'mse', optimizer = optim, metrics = [tf.keras.metrics.RootMeanSquaredError()])\n",
        "    history = model.fit(x_train, y_train, epochs = 150, batch_size = 20, verbose = 1)"
      ],
      "metadata": {
        "id": "i5r3quD-aZ9I"
      },
      "execution_count": null,
      "outputs": []
    },
    {
      "cell_type": "code",
      "source": [
        "model.evaluate(x_test, y_test, batch_size = 20)"
      ],
      "metadata": {
        "id": "PTvCX1q9cl15"
      },
      "execution_count": null,
      "outputs": []
    },
    {
      "cell_type": "code",
      "source": [
        "import matplotlib.pyplot as plt\n",
        "\n",
        "plt.plot(history.history['loss'])\n",
        "plt.plot(history.history['root_mean_squared_error'])\n",
        "\n",
        "plt.title('model loss')\n",
        "plt.ylabel('loss')\n",
        "plt.xlabel('epoch')\n",
        "plt.legend(['rmse', 'mse'], loc='upper left')\n",
        "plt.show()"
      ],
      "metadata": {
        "id": "Os4j0vOgi_ji"
      },
      "execution_count": null,
      "outputs": []
    },
    {
      "cell_type": "code",
      "source": [
        "y_pred = model.predict(x_test)\n",
        "print(y_pred[-10:])\n",
        "\n",
        "print(\"\\n\")\n",
        "\n",
        "y_actual = y_test[-10:]\n",
        "print(y_actual)"
      ],
      "metadata": {
        "id": "lDH14rc9kxbj"
      },
      "execution_count": null,
      "outputs": []
    },
    {
      "cell_type": "code",
      "source": [
        "y_diff = y_pred - y_test\n",
        "percent = 0\n",
        "for i in range(len(y_test)):\n",
        "    percent += y_diff[i]/y_test[i]*100\n",
        "\n",
        "percent = percent /len(y_test)\n",
        "percent"
      ],
      "metadata": {
        "id": "3OJx9JhRr3R2"
      },
      "execution_count": null,
      "outputs": []
    }
  ]
}